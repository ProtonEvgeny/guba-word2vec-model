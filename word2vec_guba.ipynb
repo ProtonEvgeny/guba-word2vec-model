{
  "nbformat": 4,
  "nbformat_minor": 0,
  "metadata": {
    "colab": {
      "provenance": [],
      "collapsed_sections": [],
      "authorship_tag": "ABX9TyPookxhk4Q4iS2zhmFs9hiY"
    },
    "kernelspec": {
      "name": "python3",
      "display_name": "Python 3"
    },
    "language_info": {
      "name": "python"
    }
  },
  "cells": [
    {
      "cell_type": "markdown",
      "source": [
        "### Подключение библиотек"
      ],
      "metadata": {
        "id": "HICsydMtT-xl"
      }
    },
    {
      "cell_type": "code",
      "execution_count": null,
      "metadata": {
        "id": "MA_HSVUQmRdQ",
        "colab": {
          "base_uri": "https://localhost:8080/"
        },
        "outputId": "79ab0634-50d3-4e8a-8344-09cdaccdd0f7"
      },
      "outputs": [
        {
          "output_type": "stream",
          "name": "stdout",
          "text": [
            "--2022-10-27 22:29:22--  https://drive.google.com/uc?id=1eGAsTN1HBpJAkeVM57_C7ccp7hbgSz3_\n",
            "Resolving drive.google.com (drive.google.com)... 209.85.147.138, 209.85.147.113, 209.85.147.100, ...\n",
            "Connecting to drive.google.com (drive.google.com)|209.85.147.138|:443... connected.\n",
            "HTTP request sent, awaiting response... 303 See Other\n",
            "Location: https://doc-0k-9o-docs.googleusercontent.com/docs/securesc/ha0ro937gcuc7l7deffksulhg5h7mbp1/e6o422gpfsdg17idnvqtb3442t363elr/1666909725000/02847987870453524430/*/1eGAsTN1HBpJAkeVM57_C7ccp7hbgSz3_?uuid=2bdd6666-6c68-4d5a-9658-68b642ca243f [following]\n",
            "Warning: wildcards not supported in HTTP.\n",
            "--2022-10-27 22:29:26--  https://doc-0k-9o-docs.googleusercontent.com/docs/securesc/ha0ro937gcuc7l7deffksulhg5h7mbp1/e6o422gpfsdg17idnvqtb3442t363elr/1666909725000/02847987870453524430/*/1eGAsTN1HBpJAkeVM57_C7ccp7hbgSz3_?uuid=2bdd6666-6c68-4d5a-9658-68b642ca243f\n",
            "Resolving doc-0k-9o-docs.googleusercontent.com (doc-0k-9o-docs.googleusercontent.com)... 173.194.195.132, 2607:f8b0:4001:c11::84\n",
            "Connecting to doc-0k-9o-docs.googleusercontent.com (doc-0k-9o-docs.googleusercontent.com)|173.194.195.132|:443... connected.\n",
            "HTTP request sent, awaiting response... 200 OK\n",
            "Length: 20659344 (20M) [application/x-font-ttf]\n",
            "Saving to: ‘TaipeiSansTCBeta-Regular.ttf’\n",
            "\n",
            "TaipeiSansTCBeta-Re 100%[===================>]  19.70M  59.5MB/s    in 0.3s    \n",
            "\n",
            "2022-10-27 22:29:27 (59.5 MB/s) - ‘TaipeiSansTCBeta-Regular.ttf’ saved [20659344/20659344]\n",
            "\n"
          ]
        }
      ],
      "source": [
        "!wget -O TaipeiSansTCBeta-Regular.ttf https://drive.google.com/uc?id=1eGAsTN1HBpJAkeVM57_C7ccp7hbgSz3_&export=download # Отображение китайских иероглифов на графиках\n",
        "\n",
        "import pandas as pd\n",
        "import jieba\n",
        "import re\n",
        "from tqdm import tqdm\n",
        "from gensim.models import Word2Vec\n",
        "import matplotlib as mpl\n",
        "import matplotlib.pyplot as plt\n",
        "from matplotlib.font_manager import fontManager\n",
        "import seaborn as sns\n",
        "from sklearn.manifold import TSNE\n",
        "\n",
        "# 改style要在改font之前\n",
        "# plt.style.use('seaborn')  \n",
        "\n",
        "fontManager.addfont('TaipeiSansTCBeta-Regular.ttf')\n",
        "mpl.rc('font', family='Taipei Sans TC Beta')"
      ]
    },
    {
      "cell_type": "markdown",
      "source": [
        "### Обработка датасета (сегментация, удаление стоп-слов и символов)"
      ],
      "metadata": {
        "id": "MJyROpfQUELT"
      }
    },
    {
      "cell_type": "code",
      "source": [
        "df = pd.read_csv('/content/guba_dataset.csv')\n",
        "df = df[['text']]"
      ],
      "metadata": {
        "id": "n7AgfCu2t5o0"
      },
      "execution_count": null,
      "outputs": []
    },
    {
      "cell_type": "code",
      "source": [
        "df['text'].head()"
      ],
      "metadata": {
        "colab": {
          "base_uri": "https://localhost:8080/"
        },
        "id": "18VLwUrU0CcR",
        "outputId": "abb80dcc-daed-4e96-f9d7-4a46352ac73c"
      },
      "execution_count": null,
      "outputs": [
        {
          "output_type": "execute_result",
          "data": {
            "text/plain": [
              "0             过年之前还有回本的希望吗？？？？\n",
              "1    今日竞价选出跨境通、大中矿业，二进三都挂单买入。开\n",
              "2        老道早盘展望：外围情绪好，大A春天来了嘛？\n",
              "3                     就看今天怎么说了\n",
              "4                        66666\n",
              "Name: text, dtype: object"
            ]
          },
          "metadata": {},
          "execution_count": 3
        }
      ]
    },
    {
      "cell_type": "code",
      "source": [
        "patterns = \"[A-Za-z0-9!#$%&'()*+,./:;<=>?@[\\]^_`{|}~—\\-]+\"\n",
        "\n",
        "stopwords_ch = ['the', 'of', 'is', 'and', 'to', 'in', 'that', 'we', 'for', 'an', 'are', 'by', 'be', 'as', 'on', 'with',\n",
        "                'can', 'if', 'from', 'which', 'you', 'it', 'this', 'then', 'at', 'have', 'all', 'not', 'one', 'has',\n",
        "                'or', 'that', '的', '了', '和', '是', '就', '都', '而', '及', '與', '著', '或', '一個', '沒有', '我們',\n",
        "                '你們', '妳們', '他們', '她們', '是否', '︿', '！', '＃', '＄', '％', '＆', '（', '）', '＊', '＋', '，',\n",
        "                '０', '１', '２', '３', '４', '５', '６', '７', '８', '９', '：', '；', '＜', '＞', '？', '＠', '［', '］',\n",
        "                '｛', '｜', '｝', '～', '￥', '。', '「', '」', '、', '‧', '《', '》', '〈', '〉', '【', '】', '…', ' ']\n",
        "\n",
        "def segmentation(post):\n",
        "  post = re.sub(patterns, ' ', str(post))\n",
        "  tokens = []\n",
        "\n",
        "  for token in jieba.lcut(post):\n",
        "\n",
        "    if token and token not in stopwords_ch:\n",
        "      token = token.strip()\n",
        "      if token != '':\n",
        "        tokens.append(token)\n",
        "\n",
        "  if len(tokens) > 0:\n",
        "    return tokens\n",
        "\n",
        "  return None"
      ],
      "metadata": {
        "id": "lf4PmSAKmYMH"
      },
      "execution_count": null,
      "outputs": []
    },
    {
      "cell_type": "code",
      "source": [
        "tqdm.pandas(desc='Segmentation progress')\n",
        "data = df.progress_apply(segmentation, axis=1)"
      ],
      "metadata": {
        "colab": {
          "base_uri": "https://localhost:8080/"
        },
        "id": "kiExNRomE7d8",
        "outputId": "84e297c1-4ec9-44d3-84f9-973a74cfdbef"
      },
      "execution_count": null,
      "outputs": [
        {
          "output_type": "stream",
          "name": "stderr",
          "text": [
            "\rProgress segmentation:   0%|          | 0/1366686 [00:00<?, ?it/s]Building prefix dict from the default dictionary ...\n",
            "DEBUG:jieba:Building prefix dict from the default dictionary ...\n",
            "Dumping model to file cache /tmp/jieba.cache\n",
            "DEBUG:jieba:Dumping model to file cache /tmp/jieba.cache\n",
            "Loading model cost 1.101 seconds.\n",
            "DEBUG:jieba:Loading model cost 1.101 seconds.\n",
            "Prefix dict has been built successfully.\n",
            "DEBUG:jieba:Prefix dict has been built successfully.\n",
            "Progress segmentation: 100%|██████████| 1366686/1366686 [18:09<00:00, 1254.38it/s]\n"
          ]
        }
      ]
    },
    {
      "cell_type": "code",
      "source": [
        "data = data.dropna()"
      ],
      "metadata": {
        "id": "uU9buyv-G8i4"
      },
      "execution_count": null,
      "outputs": []
    },
    {
      "cell_type": "code",
      "source": [
        "data = data.reset_index(drop=True)"
      ],
      "metadata": {
        "id": "XDD7d6AzLW0d"
      },
      "execution_count": null,
      "outputs": []
    },
    {
      "cell_type": "code",
      "source": [
        "data"
      ],
      "metadata": {
        "colab": {
          "base_uri": "https://localhost:8080/"
        },
        "id": "muAGQRzPL8_j",
        "outputId": "571ac087-8874-4a8e-d047-c1745d31d760"
      },
      "execution_count": null,
      "outputs": [
        {
          "output_type": "execute_result",
          "data": {
            "text/plain": [
              "0                                  [过年, 之前, 还有, 回本, 希望, 吗]\n",
              "1          [今日, 竞价, 选出, 跨境, 通, 大, 中, 矿业, 二进, 三, 挂单, 买入, 开]\n",
              "2                     [老道, 早盘, 展望, 外围, 情绪, 好, 大, 春天, 来, 嘛]\n",
              "3                                           [看, 今天, 怎么, 说]\n",
              "4                                    [跨境, 通, 月, 日, 快速, 上涨]\n",
              "                                ...                       \n",
              "1362255                                    [茅台, 可以, 进, 目标]\n",
              "1362256      [其实, 抵治茅, 抬, 办法, 很, 简单, 鸡精, 用, 我们, 钱, 堆高, 茅价]\n",
              "1362257                       [中信, 别, 出来, 说, 那个, 好, 那个, 跌]\n",
              "1362258          [茅台, 年底, 也, 这样, 持续, 走低, 预计, 也, 如此, 何不, 出]\n",
              "1362259                       [跌, 到, 轨道, 下轨, 买进, 较, 好, 机会]\n",
              "Length: 1362260, dtype: object"
            ]
          },
          "metadata": {},
          "execution_count": 8
        }
      ]
    },
    {
      "cell_type": "markdown",
      "source": [
        "### Построение модели"
      ],
      "metadata": {
        "id": "mAr-8M1XUTAe"
      }
    },
    {
      "cell_type": "code",
      "source": [
        "w2v_model = Word2Vec(min_count=5, window=3, size=800, sg=1, workers=16)\n",
        "w2v_model.build_vocab(data)"
      ],
      "metadata": {
        "id": "g5OygkjZMCIS"
      },
      "execution_count": null,
      "outputs": []
    },
    {
      "cell_type": "code",
      "source": [
        "w2v_model.train(data, total_examples=w2v_model.corpus_count, epochs=30)"
      ],
      "metadata": {
        "colab": {
          "base_uri": "https://localhost:8080/"
        },
        "id": "yWsql9XkUb54",
        "outputId": "15e65d38-f77c-48a6-cc47-190d0083191e"
      },
      "execution_count": null,
      "outputs": [
        {
          "output_type": "execute_result",
          "data": {
            "text/plain": [
              "(268955782, 294948150)"
            ]
          },
          "metadata": {},
          "execution_count": 10
        }
      ]
    },
    {
      "cell_type": "code",
      "source": [
        "w2v_model.init_sims(replace=True)"
      ],
      "metadata": {
        "id": "ILOchfyQgQIw"
      },
      "execution_count": null,
      "outputs": []
    },
    {
      "cell_type": "code",
      "source": [
        "w2v_model.wv.most_similar(positive=['大户'], topn=20) # Наиболее подходящие слова"
      ],
      "metadata": {
        "colab": {
          "base_uri": "https://localhost:8080/"
        },
        "id": "PQV90PyEgW-w",
        "outputId": "ecc02c5e-9d79-487c-f944-74b63c26d94a"
      },
      "execution_count": null,
      "outputs": [
        {
          "output_type": "execute_result",
          "data": {
            "text/plain": [
              "[('中户', 0.48527663946151733),\n",
              " ('大庄', 0.37235307693481445),\n",
              " ('主卖', 0.3698011338710785),\n",
              " ('低出', 0.3688352704048157),\n",
              " ('小散接', 0.3675019443035126),\n",
              " ('小户', 0.36608555912971497),\n",
              " ('那路', 0.36487895250320435),\n",
              " ('蠢驴', 0.36162686347961426),\n",
              " ('剩小散', 0.35944363474845886),\n",
              " ('内外勾结', 0.35440224409103394),\n",
              " ('互割', 0.3541947603225708),\n",
              " ('大户人家', 0.3530515432357788),\n",
              " ('压出来', 0.3529290556907654),\n",
              " ('仓皇出逃', 0.34932103753089905),\n",
              " ('互杀', 0.34702062606811523),\n",
              " ('拼了命', 0.3469400703907013),\n",
              " ('诱套', 0.34659209847450256),\n",
              " ('地压', 0.34638020396232605),\n",
              " ('自卖', 0.3461809754371643),\n",
              " ('成泉', 0.3454458713531494)]"
            ]
          },
          "metadata": {},
          "execution_count": 72
        }
      ]
    },
    {
      "cell_type": "code",
      "source": [
        "def tsne_scatterplot(model, word, list_names): # Построение векторов слов в двухмерном пространстве\n",
        "  vectors_words = [model.wv.word_vec(word)]\n",
        "  word_labels = [word]\n",
        "  color_list = ['red']\n",
        "  close_words = model.wv.most_similar(word, topn=25)\n",
        "  for wrd_score in close_words:\n",
        "    wrd_vector = model.wv.word_vec(wrd_score[0])\n",
        "    vectors_words.append(wrd_vector)\n",
        "    word_labels.append(wrd_score[0])\n",
        "    color_list.append('blue')\n",
        "\n",
        "\n",
        "  for wrd in list_names:\n",
        "    wrd_vector = model.wv.word_vec(wrd)\n",
        "    vectors_words.append(wrd_vector)\n",
        "    word_labels.append(wrd)\n",
        "    color_list.append('green')\n",
        "\n",
        "\n",
        "  Y = (TSNE(n_components=2, random_state=0, perplexity=15, init='pca').fit_transform(vectors_words))\n",
        "\n",
        "\n",
        "  df = pd.DataFrame({'x': [x for x in Y[:, 0]],\n",
        "                    'y': [y for y in Y[:, 1]],\n",
        "                    'words': word_labels,\n",
        "                    'color': color_list})\n",
        "\n",
        "  fig, _ = plt.subplots()\n",
        "\n",
        "  fig.set_size_inches(9, 9)\n",
        "\n",
        "\n",
        "  p1 = sns.regplot(data=df, x='x', y='y', fit_reg=False, marker='o', scatter_kws={'s': 40, 'facecolors': df['color']})\n",
        "\n",
        "\n",
        "  for line in range(0, df.shape[0]):\n",
        "    p1.text(df['x'][line], df['y'][line], ' ' + df['words'][line].title(), horizontalalignment='left',\n",
        "            verticalalignment='bottom', size='medium', color=df['color'][line], weight='normal').set_size(15)\n",
        "\n",
        "  plt.xlim(Y[:, 0].min()-150, Y[:, 0].max()+150)\n",
        "  plt.ylim(Y[:, 1].min()-150, Y[:, 1].max()+150)\n",
        "  plt.title('t-SNE visualization for {}'.format(word.title()))"
      ],
      "metadata": {
        "id": "0W2cYG5AiqDp"
      },
      "execution_count": null,
      "outputs": []
    },
    {
      "cell_type": "code",
      "source": [
        "tsne_scatterplot(w2v_model, '央行', []) # Построение графика"
      ],
      "metadata": {
        "colab": {
          "base_uri": "https://localhost:8080/",
          "height": 656
        },
        "id": "hcBid6o3lqoX",
        "outputId": "b89c5a37-378c-4685-9226-ae8909f48e53"
      },
      "execution_count": null,
      "outputs": [
        {
          "output_type": "stream",
          "name": "stderr",
          "text": [
            "/usr/local/lib/python3.7/dist-packages/sklearn/manifold/_t_sne.py:793: FutureWarning: The default learning rate in TSNE will change from 200.0 to 'auto' in 1.2.\n",
            "  FutureWarning,\n",
            "/usr/local/lib/python3.7/dist-packages/sklearn/manifold/_t_sne.py:986: FutureWarning: The PCA initialization in TSNE will change to have the standard deviation of PC1 equal to 1e-4 in 1.2. This will ensure better convergence.\n",
            "  FutureWarning,\n"
          ]
        },
        {
          "output_type": "display_data",
          "data": {
            "text/plain": [
              "<Figure size 648x648 with 1 Axes>"
            ],
            "image/png": "[encoded data removed]"
          },
          "metadata": {
            "needs_background": "light"
          }
        }
      ]
    }
  ]
}